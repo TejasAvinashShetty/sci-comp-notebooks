{
 "metadata": {
  "name": ""
 },
 "nbformat": 3,
 "nbformat_minor": 0,
 "worksheets": [
  {
   "cells": [
    {
     "cell_type": "markdown",
     "metadata": {},
     "source": [
      "\n",
      "Matrix Methods\n",
      "==============\n",
      "\n",
      "\n",
      "This project involves performing thin lens calculations using a matrix representation of optical elements. See the slides for an explanation of the details. The end result is that we have two matrix operators for refraction and translation transitions:\n",
      "\n",
      "Refraction:\n",
      "-----------\n",
      "\n",
      "$$\\hat{R}\\left|r_0\\right\\rangle = \\begin{bmatrix} 1 & 0 \\\\ \\frac{n_l - n_r}{R n_r} & \\frac{nl}{nr} \\end{bmatrix} \\begin{bmatrix} y_0 \\\\ \\alpha_0\\end{bmatrix}$$\n",
      "\n",
      "Translation\n",
      "-----------\n",
      "\n",
      "$$\\hat{T}\\left|r_0\\right\\rangle = \\begin{bmatrix} 1 & L \\\\ 0 & 1 \\end{bmatrix} \\begin{bmatrix} y_0 \\\\ \\alpha_0\\end{bmatrix}$$\n",
      "\n",
      "Where $n_l$ and $n_r$ are the indices of refraction on the left and right (respectively) of the refractive interface. $R$ is the radius of curvature of the refractive interface (positive if the center of curvature is to the right, negative to the left). $y_0$ is the height of the ray before the transition, $\\alpha_0$ is the angle (in radians) of the ray before the transition. $L$ is the length of the translation. Various combinations of these two operators can describe very complicated lens systems easily!\n",
      "\n",
      "Here's the example worked out in the slides:"
     ]
    },
    {
     "cell_type": "code",
     "collapsed": false,
     "input": [
      "%pylab inline"
     ],
     "language": "python",
     "metadata": {},
     "outputs": [
      {
       "output_type": "stream",
       "stream": "stdout",
       "text": [
        "Populating the interactive namespace from numpy and matplotlib\n"
       ]
      }
     ],
     "prompt_number": 2
    },
    {
     "cell_type": "code",
     "collapsed": false,
     "input": [
      "ng=1.5  # index of glass\n",
      "na=1.0  # index of air\n",
      "h=0.01  # start with ray 1.0 cm above axis\n",
      "R=0.15  # radius of curvature of lens\n",
      "\n",
      "ray1 = array([[h],[0.0]])\n",
      "\n",
      "ray1"
     ],
     "language": "python",
     "metadata": {},
     "outputs": [
      {
       "metadata": {},
       "output_type": "pyout",
       "prompt_number": 3,
       "text": [
        "array([[ 0.01],\n",
        "       [ 0.  ]])"
       ]
      }
     ],
     "prompt_number": 3
    },
    {
     "cell_type": "code",
     "collapsed": false,
     "input": [
      "T1 = array([[1.0, 3.0],\n",
      "            [0.0, 1.0]\n",
      "            ])\n",
      "T1"
     ],
     "language": "python",
     "metadata": {},
     "outputs": [
      {
       "metadata": {},
       "output_type": "pyout",
       "prompt_number": 4,
       "text": [
        "array([[ 1.,  3.],\n",
        "       [ 0.,  1.]])"
       ]
      }
     ],
     "prompt_number": 4
    },
    {
     "cell_type": "code",
     "collapsed": false,
     "input": [
      "ray2 = T1.dot(ray1)  # matrix multiplication is handled by the \"dot\" method of an array\n",
      "ray2"
     ],
     "language": "python",
     "metadata": {},
     "outputs": [
      {
       "metadata": {},
       "output_type": "pyout",
       "prompt_number": 5,
       "text": [
        "array([[ 0.01],\n",
        "       [ 0.  ]])"
       ]
      }
     ],
     "prompt_number": 5
    },
    {
     "cell_type": "code",
     "collapsed": false,
     "input": [
      "R1 = array([[1.0, 0.0],               # entering the curved surface\n",
      "            [(na-ng)/(ng*R), na/ng]])\n",
      "R1"
     ],
     "language": "python",
     "metadata": {},
     "outputs": [
      {
       "metadata": {},
       "output_type": "pyout",
       "prompt_number": 6,
       "text": [
        "array([[ 1.        ,  0.        ],\n",
        "       [-2.22222222,  0.66666667]])"
       ]
      }
     ],
     "prompt_number": 6
    },
    {
     "cell_type": "code",
     "collapsed": false,
     "input": [
      "ray3 = R1.dot(ray2)\n",
      "ray3"
     ],
     "language": "python",
     "metadata": {},
     "outputs": [
      {
       "metadata": {},
       "output_type": "pyout",
       "prompt_number": 7,
       "text": [
        "array([[ 0.01      ],\n",
        "       [-0.02222222]])"
       ]
      }
     ],
     "prompt_number": 7
    },
    {
     "cell_type": "code",
     "collapsed": false,
     "input": [
      "R2 = array([[1.0,0.0],              # exiting the planer surface\n",
      "            [0.0, ng/na]])\n",
      "R2"
     ],
     "language": "python",
     "metadata": {},
     "outputs": [
      {
       "metadata": {},
       "output_type": "pyout",
       "prompt_number": 8,
       "text": [
        "array([[ 1. ,  0. ],\n",
        "       [ 0. ,  1.5]])"
       ]
      }
     ],
     "prompt_number": 8
    },
    {
     "cell_type": "code",
     "collapsed": false,
     "input": [
      "ray4=R2.dot(ray3)\n",
      "ray4"
     ],
     "language": "python",
     "metadata": {},
     "outputs": [
      {
       "metadata": {},
       "output_type": "pyout",
       "prompt_number": 9,
       "text": [
        "array([[ 0.01      ],\n",
        "       [-0.03333333]])"
       ]
      }
     ],
     "prompt_number": 9
    },
    {
     "cell_type": "code",
     "collapsed": false,
     "input": [
      "fl=-ray4[0,0]/ray4[1,0]         # calculate the focal length from the height and angle of the ray.\n",
      "fl"
     ],
     "language": "python",
     "metadata": {},
     "outputs": [
      {
       "metadata": {},
       "output_type": "pyout",
       "prompt_number": 10,
       "text": [
        "0.29999999999999999"
       ]
      }
     ],
     "prompt_number": 10
    },
    {
     "cell_type": "code",
     "collapsed": false,
     "input": [
      "na*R/(ng-na)                    # compare to the \"lens makers\" equation result."
     ],
     "language": "python",
     "metadata": {},
     "outputs": [
      {
       "metadata": {},
       "output_type": "pyout",
       "prompt_number": 11,
       "text": [
        "0.3"
       ]
      }
     ],
     "prompt_number": 11
    },
    {
     "cell_type": "code",
     "collapsed": false,
     "input": [
      "M = R2.dot(R1.dot(T1))   # system matrix\n",
      "M"
     ],
     "language": "python",
     "metadata": {},
     "outputs": [
      {
       "metadata": {},
       "output_type": "pyout",
       "prompt_number": 15,
       "text": [
        "array([[ 1.        ,  3.        ],\n",
        "       [-3.33333333, -9.        ]])"
       ]
      }
     ],
     "prompt_number": 15
    },
    {
     "cell_type": "code",
     "collapsed": false,
     "input": [
      "M.dot(ray1)             # system acting on ray1"
     ],
     "language": "python",
     "metadata": {},
     "outputs": [
      {
       "metadata": {},
       "output_type": "pyout",
       "prompt_number": 16,
       "text": [
        "array([[ 0.01      ],\n",
        "       [-0.03333333]])"
       ]
      }
     ],
     "prompt_number": 16
    },
    {
     "cell_type": "markdown",
     "metadata": {},
     "source": [
      "Project 6\n",
      "==========\n",
      "\n",
      "We'll measure the properties of a *thick* lens in class. Using these ideas, compute the focal length of the thick lens and compare to experimentally measured values."
     ]
    },
    {
     "cell_type": "code",
     "collapsed": false,
     "input": [],
     "language": "python",
     "metadata": {},
     "outputs": [],
     "prompt_number": 12
    }
   ],
   "metadata": {}
  }
 ]
}