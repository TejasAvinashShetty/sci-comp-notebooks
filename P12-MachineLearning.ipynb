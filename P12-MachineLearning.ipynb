{
 "cells": [
  {
   "cell_type": "markdown",
   "metadata": {
    "deletable": true,
    "editable": true
   },
   "source": [
    "# Machine Learning\n",
    "\n",
    "So this is a peripheral topic relative to most of the concepts we've studied so far this semester, but it's an increasingly important area of computational technology and it's important to be aware of emerging tools in case they might be useful for a problem you encounter in your work. The idea is to create mechanisms for a machine (computer) to \"learn\" from data. One type of machine learning is \"supervised\" learning, in which a series of \"solved\" cases is presented to the computer for \"training\". Once the computer achieves a certain level of skill in recognizing the solved cases, some \"test\" cases are presented and the result is validated (or not).\n",
    "\n",
    "One of the most straightforward techniques for machine learning is inspired by the brain. The idea is to create artificial \"neurons\" that collect input from the various bits of data and produce an output. \n"
   ]
  },
  {
   "cell_type": "code",
   "execution_count": 1,
   "metadata": {
    "collapsed": false,
    "deletable": true,
    "editable": true
   },
   "outputs": [
    {
     "name": "stdout",
     "output_type": "stream",
     "text": [
      "Populating the interactive namespace from numpy and matplotlib\n"
     ]
    }
   ],
   "source": [
    "%pylab inline"
   ]
  },
  {
   "cell_type": "code",
   "execution_count": 2,
   "metadata": {
    "collapsed": true,
    "deletable": true,
    "editable": true
   },
   "outputs": [],
   "source": [
    "import pandas as pd"
   ]
  },
  {
   "cell_type": "code",
   "execution_count": 3,
   "metadata": {
    "collapsed": true,
    "deletable": true,
    "editable": true
   },
   "outputs": [],
   "source": [
    "df = pd.read_csv('Iris.csv')"
   ]
  },
  {
   "cell_type": "code",
   "execution_count": 4,
   "metadata": {
    "collapsed": false,
    "deletable": true,
    "editable": true
   },
   "outputs": [
    {
     "data": {
      "text/html": [
       "<div>\n",
       "<table border=\"1\" class=\"dataframe\">\n",
       "  <thead>\n",
       "    <tr style=\"text-align: right;\">\n",
       "      <th></th>\n",
       "      <th>Id</th>\n",
       "      <th>SepalLengthCm</th>\n",
       "      <th>SepalWidthCm</th>\n",
       "      <th>PetalLengthCm</th>\n",
       "      <th>PetalWidthCm</th>\n",
       "      <th>Species</th>\n",
       "    </tr>\n",
       "  </thead>\n",
       "  <tbody>\n",
       "    <tr>\n",
       "      <th>0</th>\n",
       "      <td>1</td>\n",
       "      <td>5.1</td>\n",
       "      <td>3.5</td>\n",
       "      <td>1.4</td>\n",
       "      <td>0.2</td>\n",
       "      <td>Iris-setosa</td>\n",
       "    </tr>\n",
       "    <tr>\n",
       "      <th>1</th>\n",
       "      <td>2</td>\n",
       "      <td>4.9</td>\n",
       "      <td>3.0</td>\n",
       "      <td>1.4</td>\n",
       "      <td>0.2</td>\n",
       "      <td>Iris-setosa</td>\n",
       "    </tr>\n",
       "    <tr>\n",
       "      <th>2</th>\n",
       "      <td>3</td>\n",
       "      <td>4.7</td>\n",
       "      <td>3.2</td>\n",
       "      <td>1.3</td>\n",
       "      <td>0.2</td>\n",
       "      <td>Iris-setosa</td>\n",
       "    </tr>\n",
       "    <tr>\n",
       "      <th>3</th>\n",
       "      <td>4</td>\n",
       "      <td>4.6</td>\n",
       "      <td>3.1</td>\n",
       "      <td>1.5</td>\n",
       "      <td>0.2</td>\n",
       "      <td>Iris-setosa</td>\n",
       "    </tr>\n",
       "    <tr>\n",
       "      <th>4</th>\n",
       "      <td>5</td>\n",
       "      <td>5.0</td>\n",
       "      <td>3.6</td>\n",
       "      <td>1.4</td>\n",
       "      <td>0.2</td>\n",
       "      <td>Iris-setosa</td>\n",
       "    </tr>\n",
       "  </tbody>\n",
       "</table>\n",
       "</div>"
      ],
      "text/plain": [
       "   Id  SepalLengthCm  SepalWidthCm  PetalLengthCm  PetalWidthCm      Species\n",
       "0   1            5.1           3.5            1.4           0.2  Iris-setosa\n",
       "1   2            4.9           3.0            1.4           0.2  Iris-setosa\n",
       "2   3            4.7           3.2            1.3           0.2  Iris-setosa\n",
       "3   4            4.6           3.1            1.5           0.2  Iris-setosa\n",
       "4   5            5.0           3.6            1.4           0.2  Iris-setosa"
      ]
     },
     "execution_count": 4,
     "metadata": {},
     "output_type": "execute_result"
    }
   ],
   "source": [
    "df.head()"
   ]
  },
  {
   "cell_type": "code",
   "execution_count": 5,
   "metadata": {
    "collapsed": false
   },
   "outputs": [
    {
     "data": {
      "text/plain": [
       "array(['Iris-setosa', 'Iris-versicolor', 'Iris-virginica'], dtype=object)"
      ]
     },
     "execution_count": 5,
     "metadata": {},
     "output_type": "execute_result"
    }
   ],
   "source": [
    "df.Species.unique()"
   ]
  },
  {
   "cell_type": "code",
   "execution_count": null,
   "metadata": {
    "collapsed": false,
    "deletable": true,
    "editable": true
   },
   "outputs": [],
   "source": []
  },
  {
   "cell_type": "code",
   "execution_count": 6,
   "metadata": {
    "collapsed": false
   },
   "outputs": [],
   "source": [
    "sub_frame = df[(df['Species']=='Iris-versicolor')|(df['Species']=='Iris-virginica')] # only two species\n",
    "train_ix = rand(len(sub_frame))<0.8  # an array of random booleans, 80% true\n",
    "train_df = sub_frame[train_ix]       # choose a random training set using the random index\n",
    "test_df = sub_frame[True^train_ix]   # use the rest for testing (a^b = true if \"a|b\" but not \"a&b\")"
   ]
  },
  {
   "cell_type": "code",
   "execution_count": 7,
   "metadata": {
    "collapsed": false
   },
   "outputs": [
    {
     "data": {
      "image/png": "[encoded data removed]",
      "text/plain": [
       "<matplotlib.figure.Figure at 0x112058b70>"
      ]
     },
     "metadata": {},
     "output_type": "display_data"
    }
   ],
   "source": [
    "versi_df=sub_frame[sub_frame.Species=='Iris-versicolor']\n",
    "virg_df=sub_frame[sub_frame['Species']=='Iris-virginica']\n",
    "plot(versi_df.PetalLengthCm.values, versi_df.PetalWidthCm.values, 'r.', label=\"Versicolor\")\n",
    "plot(virg_df.PetalLengthCm.values, virg_df.PetalWidthCm.values, 'b.', label=\"Virginica\")\n",
    "xlabel(\"Petal Length\")\n",
    "ylabel(\"Petal Width\")\n",
    "title(\"Petal Length and Width for two Species of Iris\")\n",
    "legend(loc=2)\n",
    "grid()"
   ]
  },
  {
   "cell_type": "code",
   "execution_count": 8,
   "metadata": {
    "collapsed": true
   },
   "outputs": [],
   "source": [
    "#\n",
    "# x is a 5xN (~80 samples with 4 traits + offset)\n",
    "#\n",
    "x=array([\n",
    "    ones(len(train_df)),\n",
    "    train_df.PetalLengthCm.values,\n",
    "    train_df.PetalWidthCm.values,\n",
    "    train_df.SepalLengthCm.values,\n",
    "    train_df.SepalWidthCm.values,]).T  # transpose to get in the right shape\n",
    "\n",
    "#\n",
    "# y is an Nx1, +1 if species == versi and -1 otherwise\n",
    "#\n",
    "\n",
    "y=where(train_df.Species=='Iris-versicolor',1,-1)\n",
    "\n",
    "#\n",
    "# testing sets\n",
    "#\n",
    "\n",
    "xt=array([\n",
    "    ones(len(test_df)),\n",
    "    test_df.PetalLengthCm.values,\n",
    "    test_df.PetalWidthCm.values,\n",
    "    test_df.SepalLengthCm.values,\n",
    "    test_df.SepalWidthCm.values,]).T\n",
    "\n",
    "yt=where(test_df.Species=='Iris-versicolor',1,-1)\n"
   ]
  },
  {
   "cell_type": "code",
   "execution_count": 10,
   "metadata": {
    "collapsed": false
   },
   "outputs": [
    {
     "name": "stdout",
     "output_type": "stream",
     "text": [
      "Test performance: 1.000000\n"
     ]
    },
    {
     "data": {
      "image/png": "[encoded data removed]",
      "text/plain": [
       "<matplotlib.figure.Figure at 0x112194390>"
      ]
     },
     "metadata": {},
     "output_type": "display_data"
    }
   ],
   "source": [
    "eta=0.1\n",
    "\n",
    "def train(w):\n",
    "    err_sum=0.0\n",
    "    for j in range(len(y)):\n",
    "        y_out = (x[j].dot(w)>=0.0) and 1 or -1  # make a prediction, +1 (versi) or -1 (vir)\n",
    "        err = y[j]-y_out                        # compare to known species\n",
    "        w += eta*err*x[j]                       # adjust the weights\n",
    "        err_sum += abs(err) and 1 or 0          # calculate the total error this time\n",
    "    return err_sum\n",
    "\n",
    "def test(w):\n",
    "    err_sum=0.0\n",
    "    for j in range(len(yt)):\n",
    "        y_out = (xt[j].dot(w)>=0.0) and 1 or -1  # make a prediction, +1 (versi) or -1 (vir)\n",
    "        err = yt[j]-y_out                        # compare to known species\n",
    "        err_sum += abs(err) and 1 or 0           # calculate the total error this time\n",
    "    return err_sum\n",
    "\n",
    "#\n",
    "# first try ordered trainging\n",
    "#\n",
    "\n",
    "w = rand(5)*.05  # random array of \"small\" weights\n",
    "\n",
    "err_test=[]\n",
    "err_train=[]\n",
    "train_iters=1000\n",
    "for i in range(train_iters):\n",
    "    err_train.append(train(w))\n",
    "    err_test.append(test(w))\n",
    "\n",
    "plot(range(train_iters),err_train,'b.')\n",
    "plot(range(train_iters),err_test,'r.')\n",
    "\n",
    "print(\"Test performance: %f\" % (1.0 - err_test[-1]/len(yt)))"
   ]
  },
  {
   "cell_type": "code",
   "execution_count": 11,
   "metadata": {
    "collapsed": false
   },
   "outputs": [],
   "source": []
  },
  {
   "cell_type": "code",
   "execution_count": 13,
   "metadata": {
    "collapsed": false
   },
   "outputs": [
    {
     "data": {
      "text/plain": [
       "[<matplotlib.lines.Line2D at 0x1123fac18>]"
      ]
     },
     "execution_count": 13,
     "metadata": {},
     "output_type": "execute_result"
    },
    {
     "data": {
      "image/png": "[encoded data removed]",
      "text/plain": [
       "<matplotlib.figure.Figure at 0x1123bd358>"
      ]
     },
     "metadata": {},
     "output_type": "display_data"
    }
   ],
   "source": [
    "vals=[]\n",
    "for i in range(len(x)):\n",
    "    vals.append((x[i,1],x[i,2],x[i].dot(w),y[i]))\n",
    "z=array(vals,).T\n",
    "gr=z[2]>0.0\n",
    "lt=True^gr\n",
    "plot(z[0,gr],z[1,gr],'b.')\n",
    "plot(z[0,lt],z[1,lt],'rx')\n",
    "foo=z[3]>0\n",
    "nfoo=True^foo\n",
    "plot(z[0,foo],z[1,foo],'g+')\n",
    "plot(z[0,nfoo],z[1,nfoo],'co')\n"
   ]
  },
  {
   "cell_type": "code",
   "execution_count": null,
   "metadata": {
    "collapsed": true
   },
   "outputs": [],
   "source": []
  }
 ],
 "metadata": {
  "kernelspec": {
   "display_name": "Python 3",
   "language": "python",
   "name": "python3"
  },
  "language_info": {
   "codemirror_mode": {
    "name": "ipython",
    "version": 3
   },
   "file_extension": ".py",
   "mimetype": "text/x-python",
   "name": "python",
   "nbconvert_exporter": "python",
   "pygments_lexer": "ipython3",
   "version": "3.6.0"
  }
 },
 "nbformat": 4,
 "nbformat_minor": 2
}
