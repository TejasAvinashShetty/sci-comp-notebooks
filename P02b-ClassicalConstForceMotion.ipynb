{
 "metadata": {
  "name": ""
 },
 "nbformat": 3,
 "nbformat_minor": 0,
 "worksheets": [
  {
   "cells": [
    {
     "cell_type": "markdown",
     "metadata": {},
     "source": [
      "Classical 1-D acceleration with The Heun Method\n",
      "-----------------------------------------------\n",
      "\n",
      "Suppose we have a constant force $F_0$ acting on a fixed mass for a period of time. At low speeds the momentum principle gives us:\n",
      "\n",
      "$$\\frac{dv}{dt} = \\frac{F_0}{m}$$\n",
      "\n",
      "and we also know that\n",
      "\n",
      "$$\\frac{dx}{dt} = v$$\n",
      "\n",
      "which form a set of two coupled differential equations to be solved for the position and velocity of the mass."
     ]
    },
    {
     "cell_type": "code",
     "collapsed": false,
     "input": [
      "%pylab inline"
     ],
     "language": "python",
     "metadata": {},
     "outputs": [
      {
       "output_type": "stream",
       "stream": "stdout",
       "text": [
        "Populating the interactive namespace from numpy and matplotlib\n"
       ]
      }
     ],
     "prompt_number": 1
    },
    {
     "cell_type": "code",
     "collapsed": false,
     "input": [
      "m=1.0    # assume one kilogram\n",
      "F0=1.0   # and one newton, just for illustration\n",
      "\n",
      "v0 = 0.0  # start at rest\n",
      "x0 = 0.0  # at the origin\n",
      "xf = 3.0  # go to 3.0m\n",
      "dt = 0.1  # 0.1 sec intervals\n",
      "t = 0.0   # start at t=0.0s\n",
      "\n",
      "s=array([x0, v0])  # the \"state\" will be position and velocity\n",
      "\n",
      "def derivs_F(s, t):\n",
      "\n",
      "    x=s[0]     # extract position and velocity from the \"state\"\n",
      "    v=s[1]\n",
      "    \n",
      "    dxdt=v     # use the recipe here to get dvdt \n",
      "    dvdt=F0/m  # and dxdt\n",
      "    \n",
      "    return array([dxdt, dvdt])\n",
      "\n",
      "def HeunStep(s, t, derivs, dt):\n",
      "    f1=derivs(s,t)\n",
      "    f2=derivs(s+f1*dt,t+dt)\n",
      "    return s + 0.5*(f1+f2)*dt\n",
      "\n",
      "xlist = [x0]\n",
      "tlist = [t]\n",
      "\n",
      "while s[0] < xf:\n",
      "    s = HeunStep(s, t, derivs_F, dt)\n",
      "    t += dt\n",
      "    xlist.append(s[0])\n",
      "    tlist.append(t)\n",
      "\n",
      "title('Motion with constant force')\n",
      "xlabel('time (s)')\n",
      "ylabel('position (m)')\n",
      "plot(tlist, xlist, 'r.')"
     ],
     "language": "python",
     "metadata": {},
     "outputs": [
      {
       "metadata": {},
       "output_type": "pyout",
       "prompt_number": 2,
       "text": [
        "[<matplotlib.lines.Line2D at 0x105c92fd0>]"
       ]
      },
      {
       "metadata": {},
       "output_type": "display_data",
       "png": "[encoded data removed]",
       "text": [
        "<matplotlib.figure.Figure at 0x105c92f50>"
       ]
      }
     ],
     "prompt_number": 2
    },
    {
     "cell_type": "code",
     "collapsed": false,
     "input": [],
     "language": "python",
     "metadata": {},
     "outputs": []
    }
   ],
   "metadata": {}
  }
 ]
}