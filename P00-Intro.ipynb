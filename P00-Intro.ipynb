{
 "cells": [
  {
   "cell_type": "markdown",
   "metadata": {},
   "source": [
    "Scientific Computing with Python\n",
    "==================\n",
    "\n",
    "This is a course about applying computer programming to problems of modeling physical systems and analysing data related to those systems. We'll be using a programming language called \"Python 3\". The first project is a \"getting started\" experience where you start to use the programming environment, become familiar with the basic elements of the language and, more or less, \"learn your way around.\" Let's get started!\n",
    "\n",
    "Notebook UI + Help\n",
    "-----------------\n",
    "\n",
    "Before we get too far, first click on the \"Help\" menu and choose \"User Interface Tour\" and then \"Keyboard Shortcuts\". Look over these and remember where they are if you get stuck. You'll also see that under the \"Help\" menu there are links to module specific help sites for all the major python packages we'll be using this semester.\n",
    "\n",
    "[Built in types](https://docs.python.org/3.6/library/stdtypes.html)\n",
    "--------------\n",
    "\n",
    "First things first. Python comes with many \"built in\" types. These are things like integers, floating point numbers, srings, tuples, lists and dictionaries. Let's go over those one at a time. \n",
    "\n",
    "Integers and floats are easy:"
   ]
  },
  {
   "cell_type": "code",
   "execution_count": 5,
   "metadata": {
    "collapsed": false
   },
   "outputs": [
    {
     "name": "stdout",
     "output_type": "stream",
     "text": [
      "x and y are: 3 and 2.4\n"
     ]
    }
   ],
   "source": [
    "#\n",
    "# When the cursor is in this cell hit \"shift enter\" to execute the python code here\n",
    "#\n",
    "\n",
    "x=3     # x is assigned an integer value of 3\n",
    "y=2.4   # y is assigned a floating point value of 2.4\n",
    "print(\"x and y are:\", x, 'and',y)\n"
   ]
  },
  {
   "cell_type": "markdown",
   "metadata": {},
   "source": [
    "Like most programming languages you can *operate* on these values using unary and binary operators, like so:"
   ]
  },
  {
   "cell_type": "code",
   "execution_count": 7,
   "metadata": {
    "collapsed": false
   },
   "outputs": [
    {
     "name": "stdout",
     "output_type": "stream",
     "text": [
      "The value of z is: 5.4\n"
     ]
    }
   ],
   "source": [
    "z=x+y\n",
    "print(\"The value of z is:\", z)"
   ]
  },
  {
   "cell_type": "markdown",
   "metadata": {},
   "source": [
    "[Tuples and Lists](https://docs.python.org/3.6/library/stdtypes.html#sequence-types-list-tuple-range)\n",
    "----------------\n",
    "\n",
    "These guys are used to track collections of things. For example you can have a list of integers like so:"
   ]
  },
  {
   "cell_type": "code",
   "execution_count": 11,
   "metadata": {
    "collapsed": false
   },
   "outputs": [
    {
     "name": "stdout",
     "output_type": "stream",
     "text": [
      "We have a list: [1, 2, 9, 4, 7] with a length of: 5\n",
      "We have a tuple: (1, 2, 9, 4, 7) with a length of: 5\n"
     ]
    }
   ],
   "source": [
    "aList = [1,2,9,4,7]\n",
    "print(\"We have a list:\", aList, \"with a length of:\", len(aList))\n",
    "\n",
    "aTuple = (1,2,9,4,7)\n",
    "print(\"We have a tuple:\", aTuple, \"with a length of:\", len(aTuple))"
   ]
  },
  {
   "cell_type": "markdown",
   "metadata": {},
   "source": [
    "The difference between these guys is that a list is 'mutable' and a tuple is not. In other words you can change a list by inserting, appending and deleting elements of the list, but a tuple, once born, cannot be modified."
   ]
  },
  {
   "cell_type": "code",
   "execution_count": 12,
   "metadata": {
    "collapsed": false
   },
   "outputs": [
    {
     "name": "stdout",
     "output_type": "stream",
     "text": [
      "We now have a modified list: [1, 2, 9, 4, 7, 17] with a length of  6\n"
     ]
    }
   ],
   "source": [
    "aList.append(17)\n",
    "print(\"We now have a modified list:\", aList, \"with a length of \", len(aList))"
   ]
  },
  {
   "cell_type": "code",
   "execution_count": 15,
   "metadata": {
    "collapsed": false
   },
   "outputs": [
    {
     "ename": "AttributeError",
     "evalue": "'tuple' object has no attribute 'append'",
     "output_type": "error",
     "traceback": [
      "\u001b[0;31m---------------------------------------------------------------------------\u001b[0m",
      "\u001b[0;31mAttributeError\u001b[0m                            Traceback (most recent call last)",
      "\u001b[0;32m<ipython-input-15-3a37099ed4e1>\u001b[0m in \u001b[0;36m<module>\u001b[0;34m()\u001b[0m\n\u001b[0;32m----> 1\u001b[0;31m \u001b[0maTuple\u001b[0m\u001b[0;34m.\u001b[0m\u001b[0mappend\u001b[0m\u001b[0;34m(\u001b[0m\u001b[0;36m12\u001b[0m\u001b[0;34m)\u001b[0m \u001b[0;31m# this will fail! You can't append to a tuple.\u001b[0m\u001b[0;34m\u001b[0m\u001b[0m\n\u001b[0m",
      "\u001b[0;31mAttributeError\u001b[0m: 'tuple' object has no attribute 'append'"
     ]
    }
   ],
   "source": [
    "aTuple.append(12) # this will fail! You can't append to a tuple."
   ]
  },
  {
   "cell_type": "markdown",
   "metadata": {},
   "source": [
    "Items within Tuples and lists can be accessed using their \"index\". Note that index values start at \"0\":"
   ]
  },
  {
   "cell_type": "code",
   "execution_count": 22,
   "metadata": {
    "collapsed": false
   },
   "outputs": [
    {
     "name": "stdout",
     "output_type": "stream",
     "text": [
      "element 3 of the list is 4\n"
     ]
    }
   ],
   "source": [
    "print(\"element 3 of the list is\", aList[3])"
   ]
  },
  {
   "cell_type": "code",
   "execution_count": 17,
   "metadata": {
    "collapsed": false
   },
   "outputs": [
    {
     "ename": "IndexError",
     "evalue": "tuple index out of range",
     "output_type": "error",
     "traceback": [
      "\u001b[0;31m---------------------------------------------------------------------------\u001b[0m",
      "\u001b[0;31mIndexError\u001b[0m                                Traceback (most recent call last)",
      "\u001b[0;32m<ipython-input-17-475b2915d10e>\u001b[0m in \u001b[0;36m<module>\u001b[0;34m()\u001b[0m\n\u001b[0;32m----> 1\u001b[0;31m \u001b[0mprint\u001b[0m\u001b[0;34m(\u001b[0m\u001b[0;34m\"element 27 of the tuple is\"\u001b[0m\u001b[0;34m,\u001b[0m \u001b[0maTuple\u001b[0m\u001b[0;34m[\u001b[0m\u001b[0;36m27\u001b[0m\u001b[0;34m]\u001b[0m\u001b[0;34m)\u001b[0m \u001b[0;31m# this will fail! There is no such element.\u001b[0m\u001b[0;34m\u001b[0m\u001b[0m\n\u001b[0m",
      "\u001b[0;31mIndexError\u001b[0m: tuple index out of range"
     ]
    }
   ],
   "source": [
    "print(\"element 27 of the tuple is\", aTuple[27]) # this will fail! There is no such element."
   ]
  },
  {
   "cell_type": "markdown",
   "metadata": {},
   "source": [
    "Note: When you \"multiply\" a list or a tuple by an integer you get copies of the original:"
   ]
  },
  {
   "cell_type": "code",
   "execution_count": 19,
   "metadata": {
    "collapsed": false
   },
   "outputs": [
    {
     "name": "stdout",
     "output_type": "stream",
     "text": [
      "[1, 2, 9, 4, 7, 17, 1, 2, 9, 4, 7, 17, 1, 2, 9, 4, 7, 17]\n",
      "(1, 2, 9, 4, 7, 1, 2, 9, 4, 7, 1, 2, 9, 4, 7, 1, 2, 9, 4, 7)\n"
     ]
    }
   ],
   "source": [
    "print(aList*3)\n",
    "print(aTuple*4)"
   ]
  },
  {
   "cell_type": "markdown",
   "metadata": {},
   "source": [
    "[Strings](https://docs.python.org/3.6/library/stdtypes.html#text-sequence-type-str)\n",
    "-------\n",
    "\n",
    "A string is a collection of characters, which like a list can be indexed, but has extra methods that only make sense for strings. We use string to manage textual data."
   ]
  },
  {
   "cell_type": "code",
   "execution_count": 23,
   "metadata": {
    "collapsed": false
   },
   "outputs": [
    {
     "name": "stdout",
     "output_type": "stream",
     "text": [
      "We have a string: hello there world! whose length is: 18\n",
      "the 9th element of aString is r\n"
     ]
    }
   ],
   "source": [
    "aString = \"hello there world!\"\n",
    "print(\"We have a string:\", aString, \"whose length is:\", len(aString))\n",
    "\n",
    "print(\"the 9th element of aString is\", aString[9])"
   ]
  },
  {
   "cell_type": "markdown",
   "metadata": {},
   "source": [
    "String methods\n",
    "-------------\n",
    "\n",
    "You can manipulate strings by using built-in [methods](https://docs.python.org/3.6/library/stdtypes.html#string-methods) of string objects like so:"
   ]
  },
  {
   "cell_type": "code",
   "execution_count": 47,
   "metadata": {
    "collapsed": false
   },
   "outputs": [
    {
     "name": "stdout",
     "output_type": "stream",
     "text": [
      "['hello', 'there', 'world!']\n"
     ]
    }
   ],
   "source": [
    "print(aString.split()) # split a string on spaces, convert to a list"
   ]
  },
  {
   "cell_type": "code",
   "execution_count": 66,
   "metadata": {
    "collapsed": false
   },
   "outputs": [
    {
     "name": "stdout",
     "output_type": "stream",
     "text": [
      "Here's what bString looks like: '1,2,3,4\\n5,6,7,8\\n9,10,11,12\\n'\n",
      "Let's split the lines: ['1,2,3,4', '5,6,7,8', '9,10,11,12']\n"
     ]
    }
   ],
   "source": [
    "bString=\"\"\"1,2,3,4\n",
    "5,6,7,8\n",
    "9,10,11,12\n",
    "\"\"\"\n",
    "\n",
    "print(\"Here's what bString looks like:\", repr(bString))\n",
    "print(\"Let's split the lines:\", bString.splitlines())\n"
   ]
  },
  {
   "cell_type": "code",
   "execution_count": 31,
   "metadata": {
    "collapsed": false
   },
   "outputs": [
    {
     "name": "stdout",
     "output_type": "stream",
     "text": [
      "HELLO THERE WORLD!\n"
     ]
    }
   ],
   "source": [
    "print(aString.upper())"
   ]
  },
  {
   "cell_type": "markdown",
   "metadata": {},
   "source": [
    "[Dictionaries](https://docs.python.org/3.6/library/stdtypes.html#mapping-types-dict)\n",
    "-----------\n",
    "\n",
    "A dictionary is a structured type, similar a list in that it can be indexed, but not ordered like a list:"
   ]
  },
  {
   "cell_type": "code",
   "execution_count": 36,
   "metadata": {
    "collapsed": false
   },
   "outputs": [
    {
     "name": "stdout",
     "output_type": "stream",
     "text": [
      "We have a dictionary with keys: dict_keys(['a', 'b', 'joe'])\n",
      "It as values: dict_values([1, 'sam', 3.1415927])\n",
      "And items: dict_items([('a', 1), ('b', 'sam'), ('joe', 3.1415927)])\n",
      "You can index it like an array: 3.1415927\n"
     ]
    }
   ],
   "source": [
    "aDict = {'a':1, 'b':\"sam\", 'joe':3.1415927}\n",
    "print(\"We have a dictionary with keys:\", aDict.keys())\n",
    "print(\"It as values:\", aDict.values())\n",
    "print(\"And items:\", aDict.items())\n",
    "print(\"You can index it like an array:\", aDict['joe'])"
   ]
  },
  {
   "cell_type": "markdown",
   "metadata": {},
   "source": [
    "import this\n",
    "------------\n",
    "\n",
    "While you can do a lot with built-in python types, for many things we have to do in scientific computing it makes sense to import additional functionality using an \"import\" statement. Let's import the [Pandas](http://pandas.pydata.org) libaray using the python import statment:"
   ]
  },
  {
   "cell_type": "code",
   "execution_count": 40,
   "metadata": {
    "collapsed": false
   },
   "outputs": [],
   "source": [
    "# tell the plotting system that we want plots inside the notebook\n",
    "%matplotlib inline   \n",
    "import pandas as pd  # we're renaming pandas as 'pd' here to save typing"
   ]
  },
  {
   "cell_type": "markdown",
   "metadata": {
    "collapsed": true
   },
   "source": [
    "The most important object defined in pandas is the [DataFrame](http://pandas.pydata.org/pandas-docs/stable/generated/pandas.DataFrame.html). Here's one way to create a DataFrame with pandas using a dictionary:"
   ]
  },
  {
   "cell_type": "code",
   "execution_count": 67,
   "metadata": {
    "collapsed": true
   },
   "outputs": [],
   "source": [
    "myDF = pd.DataFrame({'x':[1,2,3,4,5], 'y':[9,8,7,6,5]})"
   ]
  },
  {
   "cell_type": "markdown",
   "metadata": {},
   "source": [
    "This creates a DataFrame with two \"Columns\" x and y. You can fetch the columns individually:"
   ]
  },
  {
   "cell_type": "code",
   "execution_count": 68,
   "metadata": {
    "collapsed": false
   },
   "outputs": [
    {
     "name": "stdout",
     "output_type": "stream",
     "text": [
      "Here is x: [1 2 3 4 5]\n",
      "Here is y: [9 8 7 6 5]\n"
     ]
    }
   ],
   "source": [
    "print(\"Here is x:\", myDF.x.values)\n",
    "print(\"Here is y:\", myDF.y.values)"
   ]
  },
  {
   "cell_type": "code",
   "execution_count": 69,
   "metadata": {
    "collapsed": false
   },
   "outputs": [
    {
     "data": {
      "text/plain": [
       "<matplotlib.axes._subplots.AxesSubplot at 0x10e9d04a8>"
      ]
     },
     "execution_count": 69,
     "metadata": {},
     "output_type": "execute_result"
    },
    {
     "data": {
      "image/png": "[encoded data removed]",
      "text/plain": [
       "<matplotlib.figure.Figure at 0x10ea00710>"
      ]
     },
     "metadata": {},
     "output_type": "display_data"
    }
   ],
   "source": [
    "#\n",
    "# It is possible to plot directly from the DataFrame\n",
    "#\n",
    "\n",
    "myDF.plot('x','y')\n"
   ]
  },
  {
   "cell_type": "markdown",
   "metadata": {},
   "source": [
    "Logic and Loops\n",
    "--------------\n",
    "\n",
    "It's hard to do much without loops sooner or later! There are two basic types of loops in python [\"for\" and \"while\"](https://docs.python.org/3.6/reference/compound_stmts.html#the-while-statement). The while loop executes the statements within it's scope until a logical expression becomes `False`. A for loop executes the statements within it's scope for every element of a sequence (e.g., a list, tuple, or any other sequence type). Basically if you have a sequence you need to iterate over, use a for loop. On the other hand, if you want to iterate until some condition is met, then use a while.\n",
    "\n",
    "Here's an example:"
   ]
  },
  {
   "cell_type": "code",
   "execution_count": 58,
   "metadata": {
    "collapsed": false
   },
   "outputs": [
    {
     "name": "stdout",
     "output_type": "stream",
     "text": [
      "Starting with: '1,2,3,4\\n5,6,7,8\\n9,10,11,12\\n'\n",
      "Breaking down the string: 1,2,3,4\n",
      "Found the item: 1\n",
      "Found the item: 2\n",
      "Found the item: 3\n",
      "Found the item: 4\n",
      "Breaking down the string: 5,6,7,8\n",
      "Found the item: 5\n",
      "Found the item: 6\n",
      "Found the item: 7\n",
      "Found the item: 8\n",
      "Breaking down the string: 9,10,11,12\n",
      "Found the item: 9\n",
      "Found the item: 10\n",
      "Found the item: 11\n",
      "Found the item: 12\n"
     ]
    }
   ],
   "source": [
    "print(\"Starting with:\", repr(bString)) # show the raw string\n",
    "for s in bString.splitlines():\n",
    "    print(\"Breaking down the string:\", s)\n",
    "    for n in s.split(','):\n",
    "        print(\"Found the item:\", n)"
   ]
  },
  {
   "cell_type": "code",
   "execution_count": 70,
   "metadata": {
    "collapsed": false
   },
   "outputs": [
    {
     "name": "stdout",
     "output_type": "stream",
     "text": [
      "Found item: 1\n",
      "Found item: 2\n",
      "Found item: 3\n",
      "Found item: 4\n",
      "Found item: 5\n",
      "Found item: 6\n",
      "Found item: 7\n",
      "Found item: 8\n",
      "Found item: 9\n",
      "Found item: 10\n",
      "Found item: 11\n",
      "Found item: 12\n"
     ]
    }
   ],
   "source": [
    "#\n",
    "# another way with the while loop\n",
    "#\n",
    "\n",
    "cList=bString.splitlines()\n",
    "while len(cList)>0:\n",
    "    s=cList.pop(0) # pop off the zeroth element of the list\n",
    "    for n in s.split(','):\n",
    "        print(\"Found item:\", n)\n",
    "        "
   ]
  },
  {
   "cell_type": "markdown",
   "metadata": {},
   "source": [
    "Functions\n",
    "---------\n",
    "\n",
    "We often need to encapsulate code so that it can be easily re-used. This is a part of breaking down problems into smaller parts that are more manageable. Functions are easy to define in python, the basic syntax is:"
   ]
  },
  {
   "cell_type": "code",
   "execution_count": 72,
   "metadata": {
    "collapsed": false
   },
   "outputs": [
    {
     "name": "stdout",
     "output_type": "stream",
     "text": [
      "i= 0 myFunction(i): 1.0\n",
      "i= 1 myFunction(i): 0.5\n",
      "i= 2 myFunction(i): 0.2\n",
      "i= 3 myFunction(i): 0.1\n",
      "i= 4 myFunction(i): 0.058823529411764705\n",
      "i= 5 myFunction(i): 0.038461538461538464\n",
      "i= 6 myFunction(i): 0.02702702702702703\n",
      "i= 7 myFunction(i): 0.02\n",
      "i= 8 myFunction(i): 0.015384615384615385\n",
      "i= 9 myFunction(i): 0.012195121951219513\n"
     ]
    }
   ],
   "source": [
    "def myFunction(x):        # function to compute 1.0/(x**2 + 1.0)\n",
    "    aLocalVar = x*x+1.0   # this is x**2 + 1.0\n",
    "    return 1.0/aLocalVar  # finally 1.0/(x**2 + 1.0)\n",
    "\n",
    "for i in range(10):\n",
    "    print(\"i=\",i,\"myFunction(i):\", myFunction(i))\n",
    "    "
   ]
  },
  {
   "cell_type": "markdown",
   "metadata": {},
   "source": [
    "Odds and Ends\n",
    "========\n",
    "\n",
    "Numpy Arrays\n",
    "------------\n",
    "\n",
    "Another package we'll need to finish our \"quick tour\" of python tools is numpy. This library provides very fast homogeneous arrays. \n",
    "\n",
    "Matplotlib Graphing\n",
    "------------------\n",
    "\n",
    "We'll be using matplotlib to make more sophisticated graphs\n",
    "\n",
    "\n",
    "Sympy\n",
    "-----\n",
    "\n",
    "For symbolic computations we'll be using sympy.\n",
    "\n",
    "Scikit-Learn\n",
    "------------\n",
    "\n",
    "For our machine learning project, we'll be using scikit-learn.\n"
   ]
  },
  {
   "cell_type": "code",
   "execution_count": null,
   "metadata": {
    "collapsed": true
   },
   "outputs": [],
   "source": []
  }
 ],
 "metadata": {
  "kernelspec": {
   "display_name": "Python 3",
   "language": "python",
   "name": "python3"
  },
  "language_info": {
   "codemirror_mode": {
    "name": "ipython",
    "version": 3
   },
   "file_extension": ".py",
   "mimetype": "text/x-python",
   "name": "python",
   "nbconvert_exporter": "python",
   "pygments_lexer": "ipython3",
   "version": "3.6.0"
  }
 },
 "nbformat": 4,
 "nbformat_minor": 2
}
