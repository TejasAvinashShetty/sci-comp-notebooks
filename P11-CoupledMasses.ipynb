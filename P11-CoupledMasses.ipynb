{
 "cells": [
  {
   "cell_type": "markdown",
   "metadata": {},
   "source": [
    "Eigenvectors\n",
    "============\n",
    "\n",
    "This week we'll be studying the idea of eigenvectors of a matrix. The physical context will be the oscillation of a pair of masses coupled by springs. See the slides for details! There are two separate implementations here:\n",
    "\n",
    "1. A VPython version (read the comments and execute the corresponding cells)\n",
    "\n",
    "2. A pylab version (again, read the comments and execute the appropriate cells)\n",
    "\n"
   ]
  },
  {
   "cell_type": "code",
   "execution_count": 1,
   "metadata": {
    "collapsed": false
   },
   "outputs": [],
   "source": [
    "USE_VISUAL=False"
   ]
  },
  {
   "cell_type": "code",
   "execution_count": 2,
   "metadata": {
    "collapsed": false
   },
   "outputs": [],
   "source": [
    "#\n",
    "# Either use this cell, in which case you will be using VPython \n",
    "# Note: VPython only works if you have it installed on your local\n",
    "# computer. Also, stopping a VPython simulation appears to restart the kernel. Save first!\n",
    "#\n",
    "if USE_VISUAL:    \n",
    "    from numpy import *\n",
    "    from vpython import *\n",
    "\n"
   ]
  },
  {
   "cell_type": "code",
   "execution_count": 12,
   "metadata": {
    "collapsed": false
   },
   "outputs": [
    {
     "name": "stdout",
     "output_type": "stream",
     "text": [
      "Populating the interactive namespace from numpy and matplotlib\n"
     ]
    }
   ],
   "source": [
    "#\n",
    "# Or use this one, in which case you will be using pylab\n",
    "#\n",
    "\n",
    "if not USE_VISUAL:\n",
    "    %pylab inline"
   ]
  },
  {
   "cell_type": "code",
   "execution_count": 5,
   "metadata": {
    "collapsed": false
   },
   "outputs": [],
   "source": [
    "#\n",
    "# Basic functions and definitions used by VPython and pylab versions\n",
    "#\n",
    "\n",
    "L=10\n",
    "kb=10.0\n",
    "ks=1.0\n",
    "m=1.0\n",
    "dt=0.03\n",
    "t=0.0\n",
    "\n",
    "x1i=0.4*L/10  # initial displacement from equil, m1\n",
    "v1i=0.0   # initial vel, m1\n",
    "x2i=1.0*L/10  # initial displacement from equil, m2\n",
    "v2i=0.0   # initial vel, m2\n",
    "\n",
    "s=array([x1i,v1i,x2i,v2i]) # initial state\n",
    "\n",
    "def derivs_2m(s, t):\n",
    "    x1=s[0]   # get the variables from the state\n",
    "    v1=s[1]\n",
    "    x2=s[2]\n",
    "    v2=s[3]\n",
    "    a1 = (-(kb+ks)*x1 + ks*x2)/m\n",
    "    a2 = (-(kb+ks)*x2 + ks*x1)/m\n",
    "    return array([v1, a1, v2, a2])\n",
    "    \n",
    "def RK4Step(s, dt, t, derivs):\n",
    "    \"\"\"\n",
    "    Take a single RK4 step.\n",
    "    \"\"\"\n",
    "    f1 = derivs(s, t)\n",
    "    f2 = derivs(s+f1*dt/2.0, t+dt/2.0)\n",
    "    f3 = derivs(s+f2*dt/2.0, t+dt/2.0)\n",
    "    f4 = derivs(s+f3*dt, t+dt)\n",
    "    return s + (f1+2*f2+2*f3+f4)*dt/6.0\n"
   ]
  },
  {
   "cell_type": "code",
   "execution_count": 6,
   "metadata": {
    "collapsed": true
   },
   "outputs": [],
   "source": [
    "#\n",
    "# VPython: Simulation of 2 coupled masses on springs.\n",
    "#\n",
    "if USE_VISUAL:\n",
    "\n",
    "    wallLeft = box(pos=vec(-L,0,0), height=L/2, width=L/2, length=L/10, color=color.green)\n",
    "    wallRight = box(pos=vec(L,0,0), height=L/2, width=L/2, length=L/10, color=color.green)\n",
    "    \n",
    "    m1 = box(pos=vec(-L/3,0,0), height=L/5, width=L/5, length=L/5, color=color.red)\n",
    "    m2 = box(pos=vec(+L/3,0,0), height=L/5, width=L/5, length=L/5, color=color.red)\n",
    "    \n",
    "    vWall=vector(wallLeft.length/2,0,0)  # sorta like axis of wallLeft?\n",
    "    vMass=vector(m1.length/2,0,0)        # same for the masses\n",
    "    \n",
    "    s1 = helix(pos=wallLeft.pos+vWall, axis=(m1.pos-vMass)-(wallLeft.pos+vWall), radius=0.5)\n",
    "    s2 = helix(pos=m1.pos+vMass, axis=(m2.pos-vMass)-(m1.pos+vMass), radius=0.5)\n",
    "    s3 = helix(pos=m2.pos+vMass, axis=(wallRight.pos-vWall)-(m2.pos+vMass), radius=0.5)\n",
    "    \n",
    "    x10=m1.pos.x  # equilibrium pos of m1\n",
    "    x20=m2.pos.x  # equilibrium pos of m2"
   ]
  },
  {
   "cell_type": "code",
   "execution_count": 7,
   "metadata": {
    "collapsed": false
   },
   "outputs": [],
   "source": [
    "#\n",
    "# VPython: Simulation of 2 coupled masses on springs.\n",
    "#\n",
    "if USE_VISUAL:\n",
    "\n",
    "    def updateScreen(s):\n",
    "        x1=s[0]   # get the variables from the state\n",
    "        v1=s[1]\n",
    "        x2=s[2]\n",
    "        v2=s[3]\n",
    "    \n",
    "        m1.pos.x = x10+x1  # update mass positions\n",
    "        m2.pos.x = x20+x2\n",
    "        \n",
    "        #\n",
    "        # now just update spring positions and axes\n",
    "        #\n",
    "        \n",
    "        s1.axis = (m1.pos-vMass)-(wallLeft.pos+vWall)\n",
    "        s2.pos = m1.pos+vMass\n",
    "        s2.axis = (m2.pos-vMass)-(m1.pos+vMass)\n",
    "        s3.pos = m2.pos+vMass\n",
    "        s3.axis = (wallRight.pos-vWall)-(m2.pos+vMass)\n",
    "        \n",
    "    updateScreen(s)"
   ]
  },
  {
   "cell_type": "code",
   "execution_count": 8,
   "metadata": {
    "collapsed": true
   },
   "outputs": [],
   "source": [
    "#\n",
    "# VPython: Simulation of 2 coupled masses on springs.\n",
    "#\n",
    "if USE_VISUAL:\n",
    "\n",
    "    while True:\n",
    "        rate(30)\n",
    "        s = RK4Step(s, dt, t, derivs_2m)\n",
    "        t += dt\n",
    "        updateScreen(s)\n"
   ]
  },
  {
   "cell_type": "code",
   "execution_count": 9,
   "metadata": {
    "collapsed": false
   },
   "outputs": [
    {
     "data": {
      "image/png": "[encoded data removed]",
      "text/plain": [
       "<matplotlib.figure.Figure at 0x1084636d0>"
      ]
     },
     "metadata": {},
     "output_type": "display_data"
    }
   ],
   "source": [
    "if not USE_VISUAL:\n",
    "    x1list=[s[0]]\n",
    "    x2list=[s[2]]\n",
    "    tlist=[0.0]\n",
    "    t=0.0\n",
    "    \n",
    "    while t<6:\n",
    "        s = RK4Step(s, dt, t, derivs_2m)\n",
    "        t += dt\n",
    "        x1list.append(s[0])\n",
    "        x2list.append(s[2])\n",
    "        tlist.append(t)\n",
    "        \n",
    "    subplot(211)\n",
    "    ylabel(\"x1\")\n",
    "    title(\"motion of coupled masses\")\n",
    "    plot(tlist,x1list,label=\"x1\")\n",
    "    subplot(212)\n",
    "    ylabel(\"x2\")\n",
    "    xlabel(\"t\")\n",
    "    plot(tlist,x2list,label=\"x2\")\n",
    "    \n"
   ]
  },
  {
   "cell_type": "markdown",
   "metadata": {},
   "source": [
    "We can also sort out what's happening using the matrix formulation developed in the slides. The eigenvalue problem:\n",
    "\n",
    "$$\\begin{bmatrix} \\frac{(k_b+k_s)}{m} & -\\frac{k_s}{m} \\\\ -\\frac{k_s}{m} & \\frac{(k_b + k_s)}{m} \\end{bmatrix} \\begin{bmatrix} x_1 \\\\ x_2 \\end{bmatrix}  = \\frac{k_b}{m} \\begin{bmatrix} x_1 \\\\ x_2 \\end{bmatrix} $$\n",
    "\n",
    "Has solutions:\n",
    "\n",
    "$$\\omega^2 = \\frac{k_b}{m},\\frac{k_b+2k_s}{m}$$\n",
    "\n",
    "Which corrspond to eigenvectors\n",
    "\n",
    "$$\\begin{bmatrix} x_1 \\\\ x_2 \\end{bmatrix} = \\mathinner|+\\rangle =  \\frac{1}{\\sqrt{2}} \\begin{bmatrix} 1 \\\\ 1 \\end{bmatrix}$$\n",
    "\n",
    "or \n",
    "\n",
    "$$\\begin{bmatrix} x_1 \\\\ x_2 \\end{bmatrix} = \\mathinner|-\\rangle = \\frac{1}{\\sqrt{2}} \\begin{bmatrix} 1 \\\\ -1 \\end{bmatrix}$$\n",
    "\n",
    "The neat thing is that we can use the \"eig\" function in pylab to automaticaly find the eigenvectors and eigenvalues automatically.\n",
    "\n",
    "See the cell below for an example!\n"
   ]
  },
  {
   "cell_type": "code",
   "execution_count": 10,
   "metadata": {
    "collapsed": false
   },
   "outputs": [
    {
     "name": "stdout",
     "output_type": "stream",
     "text": [
      "values: [ 12.  10.]\n",
      "vec(0): [ 0.70710678 -0.70710678]\n",
      "vec(1): [ 0.70710678  0.70710678]\n"
     ]
    }
   ],
   "source": [
    "Mat = array([[(kb+ks)/m, -ks/m],\n",
    "            [-ks/m, (kb+ks)/m]])\n",
    "\n",
    "vals, vecs = eig(Mat)\n",
    "\n",
    "print \"values:\", vals\n",
    "print \"vec(0):\", vecs[:,0]\n",
    "print \"vec(1):\", vecs[:,1]"
   ]
  },
  {
   "cell_type": "markdown",
   "metadata": {},
   "source": [
    "Project 10\n",
    "===========\n",
    "\n",
    "Complete the analyss of three masses connected by springs of equal spring constant.\n",
    "\n",
    "Find the eigenvalues and eigenvectors for three masses.\n",
    "\n",
    "Use the RK4 approach as shown above to validate that the eigenvalues you compute are correct."
   ]
  },
  {
   "cell_type": "code",
   "execution_count": 11,
   "metadata": {
    "collapsed": false
   },
   "outputs": [
    {
     "name": "stdout",
     "output_type": "stream",
     "text": [
      "A => 0.572800804305\n",
      "omega**2 => 9.74989669831\n",
      "phi => -0.210947598927\n"
     ]
    },
    {
     "data": {
      "text/plain": [
       "<matplotlib.legend.Legend at 0x109f3db50>"
      ]
     },
     "execution_count": 11,
     "metadata": {},
     "output_type": "execute_result"
    },
    {
     "data": {
      "image/png": "[encoded data removed]",
      "text/plain": [
       "<matplotlib.figure.Figure at 0x108babe10>"
      ]
     },
     "metadata": {},
     "output_type": "display_data"
    }
   ],
   "source": [
    "from scipy.optimize import curve_fit\n",
    "\n",
    "def cosFit(t, A, omega, phi):\n",
    "    \"\"\"\n",
    "    Function def for a cosine fit\n",
    "    \"\"\"\n",
    "    return A*cos(omega*t+phi)\n",
    "\n",
    "x1a=array(x1list)\n",
    "ta=array(tlist)\n",
    "popt, pcov = curve_fit(cosFit, ta, x1a, p0=(0.707, sqrt(10.0), 0.0))\n",
    "\n",
    "A=popt[0]\n",
    "omega=popt[1]\n",
    "phi=popt[2]\n",
    "\n",
    "print \"A =>\", A\n",
    "print \"omega**2 =>\", omega**2\n",
    "print \"phi =>\", phi\n",
    "\n",
    "title('Fit to find frequency.')\n",
    "xlabel('t')\n",
    "ylabel('x1')\n",
    "plot(ta, cosFit(ta, A, omega, phi), 'b-', label=\"fit\")\n",
    "plot(ta, x1a, 'r.', label='data')\n",
    "legend()"
   ]
  },
  {
   "cell_type": "code",
   "execution_count": null,
   "metadata": {
    "collapsed": false
   },
   "outputs": [],
   "source": []
  },
  {
   "cell_type": "code",
   "execution_count": null,
   "metadata": {
    "collapsed": false
   },
   "outputs": [],
   "source": []
  }
 ],
 "metadata": {
  "kernelspec": {
   "display_name": "Python 2",
   "language": "python",
   "name": "python2"
  },
  "language_info": {
   "codemirror_mode": {
    "name": "ipython",
    "version": 2
   },
   "file_extension": ".py",
   "mimetype": "text/x-python",
   "name": "python",
   "nbconvert_exporter": "python",
   "pygments_lexer": "ipython2",
   "version": "2.7.11"
  }
 },
 "nbformat": 4,
 "nbformat_minor": 0
}
