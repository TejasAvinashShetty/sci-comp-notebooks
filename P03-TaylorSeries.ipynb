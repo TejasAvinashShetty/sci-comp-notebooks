{
 "metadata": {
  "name": ""
 },
 "nbformat": 3,
 "nbformat_minor": 0,
 "worksheets": [
  {
   "cells": [
    {
     "cell_type": "markdown",
     "metadata": {},
     "source": [
      "Taylor Series\n",
      "=============\n",
      "\n",
      "Suppose you have some function that may be expensive or difficult to evaluate and so you\u2019d like to find an easy approximation for that function in some limited domain. One particularly nice way to handle that is with a polynomial approximation since they are easy to compute. The question is: How can we find such a polynomial? One easy answer is called the \"Taylor Series\" set up like so:\n",
      "\n",
      "$$f(x) = A + B(x-x_0) + C(x-x_0)^2 + D(x-x_0)^3 + \\cdots$$\n",
      "\n",
      "So.. $x_0$ is the point around which we are interested in finding an approximation, but what are the values coefficients $A$, $B$, $C$, etc. of the binomials $(x-x_0)^n$ ? There are many ways to answer that question but *Taylor* *Series* answer is that the value of the function, and all of its derivatives *must* *match* the value of the *series* and all of *its* derivatives at the point x0. Let\u2019s try it and see what happens: Just substitute $x \\rightarrow x_0$ in the expression.\n",
      "\n",
      "What happens? Well.. $x_0 - x_0$ is nothing but $0$ so all but the first term go to zeor and we just get:\n",
      "\n",
      "$$f(x_0) = A$$\n",
      "\n",
      "We have our first coefficient, $A=f(x_0)$, so $A$ is simply equal to the *value* of the function at the point of interest.\n",
      "\n",
      "What about $B$, $C$, and all the rest? Let\u2019s demand that the first derivative of $f(x)$ match the first derivative of the series and see what we discover. What is the first derivative of the series?\n",
      "\n",
      "$$f'(x) = 0 + B + 2C(x-x_0) + 3D(x-x_0)^2 + \\cdots $$\n",
      "\n",
      "Now, put $x \\rightarrow x_0$ and see what we get:\n",
      "\n",
      "$$f'(x_0) = 0 + B + 0 + \\cdots $$\n",
      "\n",
      "so $B = f'(x_0)$, see how easy this is!\n",
      "\n",
      "Now try the second derivative:\n",
      "\n",
      "$$f''(x) = 0 + 0 + 2C + 6D(x-x_0) + \\cdots $$\n",
      "\n",
      "putting $x \\rightarrow x_0$ and we see:\n",
      "\n",
      "$$f''(x_0) = 2C$$\n",
      "\n",
      "so $C=f''(x_0)/2$. If you carry this on for a bit you can see you get:\n",
      "\n",
      "$$f(x) \\approx f(x_0) + f'(x_0)(x-x_0) + \\frac{1}{2}f''(x_0)(x-x_0)^2 + \\cdots$$\n",
      "\n",
      "or more generally:\n",
      "\n",
      "$$f(x) = \\sum_{n=0}^{n=\\infty} f^{(n)}(x_0)(x-x_0)^n$$\n",
      "\n",
      "Morse Potential\n",
      "===============\n",
      "\n",
      "Let's use this technique to analyze the motion of nitrogen atoms in a nitrogen molecule. The atoms live in an attractive potential of the form:\n",
      "\n",
      "$$U(x) = U_m \\left( \\left(1-e^{-\\alpha(x-x_0)}\\right)^2 - 1\\right)$$\n",
      "\n",
      "Let's load up sympy and define all the symbols we need: $U_m$, $x$, $x_0$ and $\\alpha$:\n"
     ]
    },
    {
     "cell_type": "code",
     "collapsed": false,
     "input": [
      "from sympy import *\n",
      "init_printing()"
     ],
     "language": "python",
     "metadata": {},
     "outputs": [],
     "prompt_number": 1
    },
    {
     "cell_type": "code",
     "collapsed": false,
     "input": [
      "Um,x,x0,alpha=symbols('Um x x_0 alpha', real=True)"
     ],
     "language": "python",
     "metadata": {},
     "outputs": [],
     "prompt_number": 2
    },
    {
     "cell_type": "markdown",
     "metadata": {},
     "source": [
      "Next let's define the Morse Potential function $U(x)$:"
     ]
    },
    {
     "cell_type": "code",
     "collapsed": false,
     "input": [
      "U = Um*((1-exp(-alpha*(x-x0)))**2-1)\n",
      "U"
     ],
     "language": "python",
     "metadata": {},
     "outputs": [
      {
       "latex": [
        "$$Um \\left(\\left(1 - e^{- \\alpha \\left(x - x_{0}\\right)}\\right)^{2} - 1\\right)$$"
       ],
       "metadata": {},
       "output_type": "pyout",
       "png": "[encoded data removed]",
       "prompt_number": 3,
       "text": [
        "   \u239b                  2    \u239e\n",
        "   \u239c\u239b     -\u03b1\u22c5(x - x\u2080)\u239e     \u239f\n",
        "Um\u22c5\u239d\u239d1 - \u212f           \u23a0  - 1\u23a0"
       ]
      }
     ],
     "prompt_number": 3
    },
    {
     "cell_type": "markdown",
     "metadata": {},
     "source": [
      "Next, Let's take the derivatite of $U(x)$ with respect to $x$: $U'(x)$"
     ]
    },
    {
     "cell_type": "code",
     "collapsed": false,
     "input": [
      "Up=U.diff(x)\n",
      "Up"
     ],
     "language": "python",
     "metadata": {},
     "outputs": [
      {
       "latex": [
        "$$2 Um \\alpha \\left(1 - e^{- \\alpha \\left(x - x_{0}\\right)}\\right) e^{- \\alpha \\left(x - x_{0}\\right)}$$"
       ],
       "metadata": {},
       "output_type": "pyout",
       "png": "[encoded data removed]",
       "prompt_number": 4,
       "text": [
        "       \u239b     -\u03b1\u22c5(x - x\u2080)\u239e  -\u03b1\u22c5(x - x\u2080)\n",
        "2\u22c5Um\u22c5\u03b1\u22c5\u239d1 - \u212f           \u23a0\u22c5\u212f           "
       ]
      }
     ],
     "prompt_number": 4
    },
    {
     "cell_type": "markdown",
     "metadata": {},
     "source": [
      "Next we can solve for the value of x where $\\frac{dU}{dx} = 0$."
     ]
    },
    {
     "cell_type": "code",
     "collapsed": false,
     "input": [
      "solve(Up,x)"
     ],
     "language": "python",
     "metadata": {},
     "outputs": [
      {
       "latex": [
        "$$\\begin{bmatrix}x_{0}\\end{bmatrix}$$"
       ],
       "metadata": {},
       "output_type": "pyout",
       "png": "[encoded data removed]",
       "prompt_number": 40,
       "text": [
        "[x\u2080]"
       ]
      }
     ],
     "prompt_number": 40
    },
    {
     "cell_type": "markdown",
     "metadata": {},
     "source": [
      "Aha! So the function has a minimum at $x=x_0$. Now take the *second* derivative of $U(x)$ with respect to $x$: $U''(x)$"
     ]
    },
    {
     "cell_type": "code",
     "collapsed": false,
     "input": [
      "Upp=Up.diff(x)\n",
      "Upp"
     ],
     "language": "python",
     "metadata": {},
     "outputs": [
      {
       "latex": [
        "$$- 2 Um \\alpha^{2} \\left(1 - e^{- \\alpha \\left(x - x_{0}\\right)}\\right) e^{- \\alpha \\left(x - x_{0}\\right)} + 2 Um \\alpha^{2} e^{- 2 \\alpha \\left(x - x_{0}\\right)}$$"
       ],
       "metadata": {},
       "output_type": "pyout",
       "png": "[encoded data removed]",
       "prompt_number": 37,
       "text": [
        "        2 \u239b     -\u03b1\u22c5(x - x\u2080)\u239e  -\u03b1\u22c5(x - x\u2080)         2  -2\u22c5\u03b1\u22c5(x - x\u2080)\n",
        "- 2\u22c5Um\u22c5\u03b1 \u22c5\u239d1 - \u212f           \u23a0\u22c5\u212f            + 2\u22c5Um\u22c5\u03b1 \u22c5\u212f             "
       ]
      }
     ],
     "prompt_number": 37
    },
    {
     "cell_type": "markdown",
     "metadata": {},
     "source": [
      "OK, we can use the `subs` method to evalute $U''(x)$ where $x=x_0$:"
     ]
    },
    {
     "cell_type": "code",
     "collapsed": false,
     "input": [
      "Upp.subs(x,x0)"
     ],
     "language": "python",
     "metadata": {},
     "outputs": [
      {
       "latex": [
        "$$2 Um \\alpha^{2}$$"
       ],
       "metadata": {},
       "output_type": "pyout",
       "png": "[encoded data removed]",
       "prompt_number": 39,
       "text": [
        "      2\n",
        "2\u22c5Um\u22c5\u03b1 "
       ]
      }
     ],
     "prompt_number": 39
    },
    {
     "cell_type": "markdown",
     "metadata": {},
     "source": [
      "So, we see now that:\n",
      "\n",
      "$$\\frac{d^2U}{dx^2}\\bigg|_{x_0} = 2 U_m \\alpha^2$$\n",
      "\n",
      "so we can connect the parameters of the Morse Potential to the Taylor Series coefficients near the minimum of the Potential.\n",
      "\n",
      "Project 3\n",
      "===========\n",
      "\n",
      "See the podcast! But basically the project is to use the experimental data, the analytical approximation (Taylor Series) to the Morse Potential and the Heun Method to:\n",
      "\n",
      "* Verify/show that the experimental data is consistent with the Morse Potential model.\n",
      "\n",
      "* Use the Heun Method to compute the period of small oscillations about the equilibrium position and compare that to the experimental data *and* the Taylor Series result.\n",
      "\n",
      "$U_m$ = 7.37 eV\n",
      "\n",
      "$x_0$ = 1.2 A\n",
      "\n",
      "$\\alpha = 2.287\\ A^{-1}$\n",
      "\n",
      "$f$ = $5.19\\times 10^{13}$ Hz\n"
     ]
    },
    {
     "cell_type": "code",
     "collapsed": false,
     "input": [],
     "language": "python",
     "metadata": {},
     "outputs": []
    }
   ],
   "metadata": {}
  }
 ]
}