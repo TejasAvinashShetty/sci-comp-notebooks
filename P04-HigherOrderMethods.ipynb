{
 "cells": [
  {
   "cell_type": "markdown",
   "metadata": {},
   "source": [
    "Higher Order Methods\n",
    "====================\n",
    "\n",
    "The Heun Method is an example of a more general class of numerical solvers known as Runge-Kutta solvers. See the slides for details, but basically you can classify RK solvers by the way they step in time and how they weight the extrapolated results in the final answer.\n",
    "\n",
    "<img width=\"250\" src=\"https://dl.dropboxusercontent.com/u/20562746/280/p4/butcher-tab.png\">\n",
    "\n",
    "One particular choise of weights that is very popular is the RK4 table:\n",
    "\n",
    "<img width=\"250\" src=\"https://dl.dropboxusercontent.com/u/20562746/280/p4/rk4-table.png\">\n",
    "\n",
    "Which leads to the RK4Step function:\n",
    "\n",
    "    def RK4Step(s, dt, t, derivs):\n",
    "        f1 = derivs(s, t)*dt\n",
    "        f2 = derivs(s+f1/2.0, t+dt/2.0)*dt\n",
    "        f3 = derivs(s+f2/2.0, t+dt/2.0)*dt\n",
    "        f4 = derivs(s+f3, t+dt)*dt\n",
    "        return s + (f1+2*f2+2*f3+f4)/6.0\n",
    "\n",
    "Symplectic Methods\n",
    "==================\n",
    "\n",
    "Some kinds of systems have properties that make even high order RK methods unsatisfactory. These are systems where Energy (and other quantities) are conserved. These are called \"Hamiltonian\" systems due to the extensive history of applyng the Hamiltonian formalism to their solution. See the slides for more details of the Hamiltonian formalism. The RK algorithms focus on reducing trucation error, but do not respect any inherantly conserved quantities. *Symplectic* methods are designed to exactly conserve these quantities at the possible expense of some truncation error. The simplest of these is the *SymplecticEuler* method (sometimes knows as the *Cromer* method). A second order version is the *Verlet* method, or the \"Leapfrog\" method.\n",
    "\n",
    "\n",
    "    def EulerStep(s, t, derivs, dt):\n",
    "        return s + derivs(s,t)*dt\n",
    "\n",
    "    def SymplecticEulerStep(s, t, derivs, dt):\n",
    "        s1 = s + derivs(s,t,0)*dt     #  q-step\n",
    "        return s1 + derivs(s1,t,1)*dt #  p-step\n",
    "\n",
    "    def VerletStep(s, t, derivs, dt):\n",
    "        dth = dt/2.0  # half of h\n",
    "        s = s + derivs(s, t, 0)*dth       # changes only positon\n",
    "        s = s + derivs(s, t+dth, 1)*dt    # changes only velocity\n",
    "        return s + derivs(s, t+dt, 0)*dth # change only position\n",
    "\n",
    "Notice that when the SymplecticEulerStep and VerletStep methods call derivs they add a third argument. This argument tells the derivs function whether the step is a \"space step, or q-step\" (pass a zero) or a \"velocity step, or p-step\" (pass a one). If the derivs function detects that a third argument has been passed it should return zero in the rate of change of the \"other\" part of the state (e.g., if it's a \"space step\" then the rate of change of the velocity (or momentum) should be zero). In this way the VerletStep function can carefully craft a sequence of steps that take care to conserve area in phase space (and energy in the long run, even though they may be less accurate in the short run).\n",
    "\n",
    "Below are some examples of EulerStep, SymplecticEulerStep, RK4Step and VerletStep applied to the simple harmonic oscillator."
   ]
  },
  {
   "cell_type": "code",
   "execution_count": 11,
   "metadata": {
    "collapsed": false
   },
   "outputs": [
    {
     "name": "stdout",
     "output_type": "stream",
     "text": [
      "Populating the interactive namespace from numpy and matplotlib\n"
     ]
    }
   ],
   "source": [
    "%pylab inline"
   ]
  },
  {
   "cell_type": "code",
   "execution_count": 2,
   "metadata": {
    "collapsed": false
   },
   "outputs": [],
   "source": [
    "def EulerStep(s, t, derivs, dt):\n",
    "    \"\"\"\n",
    "    Step whichever way derivs says to go.\n",
    "    \"\"\"\n",
    "    return s + derivs(s,t)*dt\n",
    "\n",
    "def SymplecticEulerStep(s, t, derivs, dt):\n",
    "    \"\"\"\n",
    "    Take two steps, one in only \"q\", one in only \"p\" direction.\n",
    "    \"\"\"\n",
    "    s1 = s + derivs(s,t,0)*dt     #  q-step\n",
    "    return s1 + derivs(s1,t,1)*dt #  p-step"
   ]
  },
  {
   "cell_type": "code",
   "execution_count": 3,
   "metadata": {
    "collapsed": false
   },
   "outputs": [],
   "source": [
    "k=1.0\n",
    "m=1.0\n",
    "\n",
    "def derivs_sho(s, t, step=None):\n",
    "    \"\"\"\n",
    "    Simple harmonic oscillator derivs for symplectic and non-symplectic\n",
    "    The 'state' array (s) now has an ensemble of oscillators with slightly\n",
    "    different initial conditions. The first n elements are the positions\n",
    "    and the second half are the velocities.\n",
    "    \"\"\"\n",
    "    n=len(s)/2  # the first half of s is 'q', second half 'p'\n",
    "    v=s[n:]\n",
    "    \n",
    "    if step==0:\n",
    "        return append(v, zeros(n))  # for q-steps, just update the position\n",
    "                                    # no need to compute 'a'\n",
    "    else:\n",
    "        x=s[:n] # only extract x and compute a if we need it.\n",
    "        a=-k*x/m\n",
    "        if step is None: # it must be an RK4 step\n",
    "            return append(v,a)\n",
    "        else: # velocity step\n",
    "            return append(zeros(n),a) # for p-steps, just updated the velocity"
   ]
  },
  {
   "cell_type": "code",
   "execution_count": 4,
   "metadata": {
    "collapsed": false
   },
   "outputs": [
    {
     "name": "stdout",
     "output_type": "stream",
     "text": [
      "s(at t=0)= [ 1.   1.1  1.1  1.   1.   0.   0.   0.1  0.1  0. ]\n"
     ]
    },
    {
     "data": {
      "image/png": "[encoded data removed]",
      "text/plain": [
       "<matplotlib.figure.Figure at 0x10a6d12d0>"
      ]
     },
     "metadata": {},
     "output_type": "display_data"
    }
   ],
   "source": [
    "rcParams['figure.figsize']=(7.,7.)\n",
    "DO_SYMPLECTIC=False  # Change \"DO_SYMPLECTIC\" to True or False to switch between\n",
    "                     # SymplecticEuler and Euler \"step\" functions.\n",
    "\n",
    "delta=0.1 # how far apart in phase space are the points\n",
    "\n",
    "s0= array([1.0,0.0])\n",
    "s1=s0 + array([delta, 0])\n",
    "s2=s0 + array([delta,delta])\n",
    "s3=s0 + array([0, delta])  # four points in phase space\n",
    "\n",
    "t = 0.0\n",
    "dt = pi/10\n",
    "\n",
    "s = array(list(flatten(array([s0,s1,s2,s3,s0]).T)))  # state of four objects -> [x1,x2,x3,x4,x5,v1,v2,v3,v4,v5]\n",
    "                                                     # (fifth object is same as first to \"close the box\")\n",
    "print \"s(at t=0)=\",s\n",
    "\n",
    "n = len(s)/2\n",
    "clf()\n",
    "\n",
    "if DO_SYMPLECTIC:\n",
    "    title(\"Harmonic Oscillator Phase Space: Symplectic Euler\")\n",
    "    wsize=1.4\n",
    "else:\n",
    "    title(\"Harmonic Oscillator Phase Space: Euler\")\n",
    "    wsize=2.5\n",
    "    \n",
    "axes().set_aspect('equal')\n",
    "axis([-wsize,wsize,-wsize,wsize])\n",
    "xlabel(\"position\")\n",
    "ylabel(\"momentum\")\n",
    "plot(s[:n], s[n:], 'r-',s[:n],s[n:],'b.')\n",
    "\n",
    "while t<1.9*pi:\n",
    "    if DO_SYMPLECTIC:\n",
    "        s=SymplecticEulerStep(s, t, derivs_sho, dt)\n",
    "    else:\n",
    "        s=EulerStep(s, t, derivs_sho, dt)\n",
    "    t+=dt\n",
    "    plot(s[:n], s[n:], 'r-',s[:n],s[n:],'b.')\n",
    "        "
   ]
  },
  {
   "cell_type": "code",
   "execution_count": 5,
   "metadata": {
    "collapsed": false
   },
   "outputs": [],
   "source": [
    "def VerletStep(s, t, derivs, dt):\n",
    "    dth = dt/2.0  # half of h\n",
    "    s = s + derivs(s, t, 0)*dth       # changes only positon\n",
    "    s = s + derivs(s, t+dth, 1)*dt    # changes only velocity from s1\n",
    "    return s + derivs(s, t+dt, 0)*dth # change only position\n",
    "\n",
    "def RK4Step(s, t, derivs, dt):\n",
    "    \"\"\"\n",
    "    Take a single RK4 step.\n",
    "    \"\"\"\n",
    "    dth=dt/2.0\n",
    "    f1 = derivs(s, t)\n",
    "    f2 = derivs(s+f1*dth, t+dth)\n",
    "    f3 = derivs(s+f2*dth, t+dth)\n",
    "    f4 = derivs(s+f3*dt, t+dt)\n",
    "    return s + (f1+2*f2+2*f3+f4)*dt/6.0"
   ]
  },
  {
   "cell_type": "code",
   "execution_count": 9,
   "metadata": {
    "collapsed": false
   },
   "outputs": [
    {
     "data": {
      "text/plain": [
       "[<matplotlib.lines.Line2D at 0x1139d7f90>,\n",
       " <matplotlib.lines.Line2D at 0x10cb2d590>]"
      ]
     },
     "execution_count": 9,
     "metadata": {},
     "output_type": "execute_result"
    }
   ],
   "source": [
    "x=1.0\n",
    "v=0.0\n",
    "t=0.0\n",
    "dt=0.3\n",
    "\n",
    "tlist=[t]     # times\n",
    "erlist=[0.5]  # RK4 Energies\n",
    "evlist=[0.5]  # Verlet Energies\n",
    "sr=array([x,v])  # state (RK4)\n",
    "sv=array([x,v])  # state (Verlet)\n",
    "\n",
    "while t<3000*pi:\n",
    "    sr = RK4Step(sr, t, derivs_sho, dt)     # take each \"type\" of step\n",
    "    sv = VerletStep(sv, t, derivs_sho, dt)\n",
    "    t += dt\n",
    "    tlist.append(t)\n",
    "    Er = 0.5*sr[1]**2 + 0.5*sr[0]**2  # compute energies\n",
    "    Ev = 0.5*sv[1]**2 + 0.5*sv[0]**2\n",
    "    erlist.append(Er)\n",
    "    evlist.append(Ev)\n",
    "    \n",
    "\n",
    "title(\"SHO Energies\")\n",
    "xlabel(\"time (s)\")\n",
    "ylabel(\"energy (J)\")\n",
    "plot(tlist, erlist, 'r-', tlist, evlist, 'g-')"
   ]
  },
  {
   "cell_type": "markdown",
   "metadata": {},
   "source": [
    "Notice that the RK4 method, being 4th order, is much more \"accurate\" in the short term (the variations in energy are much smaller) in the long run the energy drifts a lot. The Verlet method has more short term error, but over the long run, the energy remains bounded near the original energy.\n",
    "\n",
    "Project 4: Orbital Mechanics\n",
    "=============================\n",
    "\n",
    "You will compute the orbit of an asteroid under the influence of the Sun and Jupiter. Use the RK4 and Verlet algorithm and investigate the long term conservation of energy for both algorithms. Below find an example of approximately computing Earth's orbit about the Sun. You should be able to swich out RK4 and Verlet step functions.\n",
    "\n",
    "What do I have to do?\n",
    "---------------------\n",
    "\n",
    "Please write a report describing your efforts. Be sure to include the following:\n",
    "\n",
    "* The calculation of the orbital radius of an asteroid whose orbital period is half of Jupiter's period.\n",
    "\n",
    "* A graph of energy vs. time for such an asteroid using both RK4 and Verlet methods.\n",
    "\n",
    "* Any general conclusion you can draw from your results regarding the virtues and/or drawbacks of these methods.\n"
   ]
  },
  {
   "cell_type": "code",
   "execution_count": 12,
   "metadata": {
    "collapsed": false
   },
   "outputs": [
    {
     "data": {
      "text/plain": [
       "[<matplotlib.lines.Line2D at 0x11406d650>]"
      ]
     },
     "execution_count": 12,
     "metadata": {},
     "output_type": "execute_result"
    },
    {
     "data": {
      "image/png": "[encoded data removed]",
      "text/plain": [
       "<matplotlib.figure.Figure at 0x10c8bc4d0>"
      ]
     },
     "metadata": {},
     "output_type": "display_data"
    }
   ],
   "source": [
    "GMs = (2*pi)**2   # measure time in years, distance in AU\n",
    "\n",
    "def derivs_grav(s, t, step=None):\n",
    "    \"\"\"\n",
    "    Compute motion of Earth about the Sun\n",
    "    \"\"\"\n",
    "    r=s[:2]\n",
    "    v=s[2:]\n",
    "    if step==0:  # Verlet space-step\n",
    "        return append(v,zeros(2))\n",
    "\n",
    "    else:\n",
    "        rnorm = sqrt(sum(r*r))\n",
    "        a = -GMs*r/rnorm**3\n",
    "\n",
    "        if step is None:  # RK step\n",
    "            return append(v,a)\n",
    "\n",
    "        else: # Verlet velocity-step\n",
    "            return append(zeros(2),a)\n",
    "\n",
    "v = array([0.0,2*pi])\n",
    "r = array([1.0,0.0])\n",
    "s=append(r,v)\n",
    "t=0.0\n",
    "dt=0.01\n",
    "tlist=[t]\n",
    "xlist=[s[0]]\n",
    "ylist=[s[1]]\n",
    "\n",
    "while t<1.1:\n",
    "    s = RK4Step(s, t, derivs_grav, dt)\n",
    "    t += dt\n",
    "    tlist.append(t)\n",
    "    xlist.append(s[0])\n",
    "    ylist.append(s[1])\n",
    "\n",
    "\n",
    "title(\"Earth Orbit\")\n",
    "xlabel(\"x-position (AU)\")\n",
    "ylabel(\"y-position (AU)\")\n",
    "axes().set_aspect('equal')\n",
    "axis([-1.1,1.1,-1.1,1.1])\n",
    "plot(xlist, ylist)"
   ]
  },
  {
   "cell_type": "markdown",
   "metadata": {},
   "source": [
    "Starter Code\n",
    "============\n",
    "\n",
    "Below you'll find a derivs_grav function that computes the motion of an asteroid and Jupiter about the sun. It's set up to take combined q/p steps (appropriate for an RK scheme). You can use this directly to study the motion with RK4Step and investigate solutions for different initial conditions."
   ]
  },
  {
   "cell_type": "code",
   "execution_count": 13,
   "metadata": {
    "collapsed": false
   },
   "outputs": [],
   "source": [
    "#\n",
    "# This is a derivs function for the RK4 method\n",
    "# You need to modify it to work with the Symplectic Integrators\n",
    "#\n",
    "\n",
    "GMs = (2*pi)**2   # measure time in years, distance in AU\n",
    "GMj = GMs/1047    # jupiter's mass is much less than the Sun's\n",
    "GMa = GMj/1e7     # typical asteroid mass.. *really* small.\n",
    "\n",
    "def derivs_grav(s, t, step=None):\n",
    "    \"\"\"\n",
    "    Compute motion of asteriod and Jupiter about the Sun\n",
    "    \"\"\"\n",
    "    rsa=s[:2]  # position of asteroid relative to sun\n",
    "    rsj=s[2:4] # for symplectic integrators it's handy to have all r's together\n",
    "    va=s[4:6]  # followed by all v's in the state array.\n",
    "    vj=s[6:8]  \n",
    "    rja=rsa-rsj\n",
    "    \n",
    "    rsjm3 = (rsj*rsj).sum()**(1.5)  # compute |r_{sj}|**3 for vector force calculation\n",
    "    rsam3 = (rsa*rsa).sum()**(1.5)  # similar for r_{sa}\n",
    "    rjam3 = (rja*rja).sum()**(1.5)  # similar for r_{ja}\n",
    "    \n",
    "    aj = -(GMs*rsj/rsjm3 - GMa*rja/rjam3)\n",
    "    aa = -(GMs*rsa/rsam3 + GMj*rja/rjam3)\n",
    "    \n",
    "    return array([va[0],va[1],vj[0],vj[1],aa[0],aa[1],aj[0],aj[1]])"
   ]
  },
  {
   "cell_type": "code",
   "execution_count": 15,
   "metadata": {
    "collapsed": false
   },
   "outputs": [
    {
     "data": {
      "text/plain": [
       "<matplotlib.legend.Legend at 0x118ae8c10>"
      ]
     },
     "execution_count": 15,
     "metadata": {},
     "output_type": "execute_result"
    },
    {
     "data": {
      "image/png": "[encoded data removed]",
      "text/plain": [
       "<matplotlib.figure.Figure at 0x114067910>"
      ]
     },
     "metadata": {},
     "output_type": "display_data"
    }
   ],
   "source": [
    "Rj=5.2     # AU\n",
    "Ra=3.0     # AU\n",
    "\n",
    "s=array([Ra,0,Rj,0,0,sqrt(GMs/Ra),0,sqrt(GMs/Rj)])  # assume circular orbits\n",
    "\n",
    "xalist=[]  # empty lists\n",
    "yalist=[]\n",
    "tlist=[]\n",
    "xjlist=[]\n",
    "yjlist=[]\n",
    "\n",
    "t=0.0\n",
    "dt=0.1\n",
    "\n",
    "while t<70000:\n",
    "    s=RK4Step(s, t, derivs_grav, dt)\n",
    "    t+=dt\n",
    "    tlist.append(t)\n",
    "    xalist.append(s[0])\n",
    "    yalist.append(s[1])\n",
    "    xjlist.append(s[2])\n",
    "    yjlist.append(s[3])\n",
    "    \n",
    "title(\"Jupiter/Asteriod Orbit\")\n",
    "xlabel(\"x-position (AU)\")\n",
    "ylabel(\"y-position (AU)\")\n",
    "axes().set_aspect('equal')\n",
    "axis([-6,6,-6,6])\n",
    "\n",
    "plot(xalist, yalist,'b.',label=\"asteroid\")\n",
    "plot(xjlist, yjlist,'g.',label=\"jupiter\")\n",
    "legend()"
   ]
  },
  {
   "cell_type": "markdown",
   "metadata": {},
   "source": [
    "That's all!\n",
    "==========="
   ]
  },
  {
   "cell_type": "code",
   "execution_count": null,
   "metadata": {
    "collapsed": false
   },
   "outputs": [],
   "source": []
  }
 ],
 "metadata": {
  "kernelspec": {
   "display_name": "Python 2",
   "language": "python",
   "name": "python2"
  },
  "language_info": {
   "codemirror_mode": {
    "name": "ipython",
    "version": 2
   },
   "file_extension": ".py",
   "mimetype": "text/x-python",
   "name": "python",
   "nbconvert_exporter": "python",
   "pygments_lexer": "ipython2",
   "version": "2.7.9"
  }
 },
 "nbformat": 4,
 "nbformat_minor": 0
}
