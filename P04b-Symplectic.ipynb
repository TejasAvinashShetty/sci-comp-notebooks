{
 "cells": [
  {
   "cell_type": "code",
   "execution_count": 1,
   "metadata": {
    "collapsed": false,
    "deletable": true,
    "editable": true
   },
   "outputs": [
    {
     "name": "stdout",
     "output_type": "stream",
     "text": [
      "Populating the interactive namespace from numpy and matplotlib\n"
     ]
    }
   ],
   "source": [
    "%pylab inline"
   ]
  },
  {
   "cell_type": "code",
   "execution_count": 2,
   "metadata": {
    "collapsed": false,
    "deletable": true,
    "editable": true
   },
   "outputs": [],
   "source": [
    "def EulerStep(s, t, derivs, dt):\n",
    "    return s + derivs(s,t)*dt\n",
    "\n",
    "def SymplecticEulerStep(s, t, derivs, dt):\n",
    "    s1 = s + derivs(s,t,0)*dt     #  q-step\n",
    "    return s1 + derivs(s1,t,1)*dt #  p-step\n"
   ]
  },
  {
   "cell_type": "code",
   "execution_count": 5,
   "metadata": {
    "collapsed": false,
    "deletable": true,
    "editable": true
   },
   "outputs": [],
   "source": [
    "k=1.0\n",
    "m=1.0\n",
    "\n",
    "def derivs_sho(s, t, step=None):\n",
    "    \"\"\"\n",
    "    Simple harmonic oscillator derivs for symplectic and non-symplectic\n",
    "    \"\"\"\n",
    "    n=int(len(s)/2)  # the first half of s is 'q', second half 'p'\n",
    "    v=s[n:]\n",
    "    \n",
    "    if step==0:\n",
    "        return append(v, zeros(n))  # for q-steps, just update the position\n",
    "    else:\n",
    "        x=s[:n] # only compute x and a if we need it.\n",
    "        a=-k*x/m\n",
    "        if step is None: # it must be an RK4 step\n",
    "            return append(v,a)\n",
    "        else: # velocity step\n",
    "            return append(zeros(n),a) # for p-steps, just updated the velocity\n"
   ]
  },
  {
   "cell_type": "code",
   "execution_count": 7,
   "metadata": {
    "collapsed": false,
    "deletable": true,
    "editable": true
   },
   "outputs": [
    {
     "data": {
      "image/png": "[encoded data removed]",
      "text/plain": [
       "<matplotlib.figure.Figure at 0x10e1ce898>"
      ]
     },
     "metadata": {},
     "output_type": "display_data"
    }
   ],
   "source": [
    "rcParams['figure.figsize']=(7.,7.)\n",
    "DO_SYMPLECTIC=False  # Change \"DO_SYMPLECTIC\" to True or False to switch between\n",
    "                     # SymplecticEuler and Euler \"step\" functions.\n",
    "\n",
    "delta=0.1 # how far apart in phase space are the points\n",
    "\n",
    "s0= array([1.0,0.0])\n",
    "s1=s0 + array([delta, 0])\n",
    "s2=s0 + array([delta,delta])\n",
    "s3=s0 + array([0, delta])  # five points in phase space\n",
    "\n",
    "t = 0.0\n",
    "dt = pi/10\n",
    "\n",
    "s = array(list(flatten(array([s0,s1,s2,s3,s0]).T)))  # state of four objects -> [x1,x2,x3,x4,v1,v2,v3,v4]\n",
    "n = int(len(s)/2)\n",
    "clf()\n",
    "\n",
    "if DO_SYMPLECTIC:\n",
    "    title(\"Harmonic Oscillator Phase Space: Symplectic Euler\")\n",
    "    wsize=1.4\n",
    "else:\n",
    "    title(\"Harmonic Oscillator Phase Space: Euler\")\n",
    "    wsize=2.5\n",
    "    \n",
    "axes().set_aspect('equal')\n",
    "axis([-wsize,wsize,-wsize,wsize])\n",
    "xlabel(\"position\")\n",
    "ylabel(\"momentum\")\n",
    "plot(s[:n], s[n:], 'r-',s[:n],s[n:],'b.')\n",
    "\n",
    "while t<1.9*pi:\n",
    "    if DO_SYMPLECTIC:\n",
    "        s=SymplecticEulerStep(s, t, derivs_sho, dt)\n",
    "    else:\n",
    "        s=EulerStep(s, t, derivs_sho, dt)\n",
    "    t+=dt\n",
    "    plot(s[:n], s[n:], 'r-',s[:n],s[n:],'b.')\n",
    "        "
   ]
  }
 ],
 "metadata": {
  "kernelspec": {
   "display_name": "Python 3",
   "language": "python",
   "name": "python3"
  },
  "language_info": {
   "codemirror_mode": {
    "name": "ipython",
    "version": 3
   },
   "file_extension": ".py",
   "mimetype": "text/x-python",
   "name": "python",
   "nbconvert_exporter": "python",
   "pygments_lexer": "ipython3",
   "version": "3.6.0"
  }
 },
 "nbformat": 4,
 "nbformat_minor": 0
}
